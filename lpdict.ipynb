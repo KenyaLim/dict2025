{
 "cells": [
  {
   "cell_type": "code",
   "execution_count": 1,
   "id": "85781682",
   "metadata": {},
   "outputs": [
    {
     "name": "stdout",
     "output_type": "stream",
     "text": [
      "\n",
      "Dictionary:  {1: 10, 2: 20, 3: 30, 4: 40, 5: 50, 6: 60} \n",
      "\n",
      "Output:\n",
      "Key   Value   Item \n",
      "1     10     1\n",
      "2     20     2\n",
      "3     30     3\n",
      "4     40     4\n",
      "5     50     5\n",
      "6     60     6\n"
     ]
    }
   ],
   "source": [
    "#11.1\n",
    "a = {1: 10, 2: 20, 3: 30, 4: 40, 5: 50, 6: 60};print(\"\\nDictionary: \",a, \"\\n\\nOutput:\\nKey   Value   Item \")\n",
    "for key, value in a.items():\n",
    "    print(key,\"   \", value,\"   \", key)\n"
   ]
  },
  {
   "cell_type": "code",
   "execution_count": 2,
   "id": "edec50ea",
   "metadata": {},
   "outputs": [
    {
     "name": "stdout",
     "output_type": "stream",
     "text": [
      "Output: \n",
      "{'red': '#FF0000', 'green': '#008000', 'blue': '#0000FF'}\n"
     ]
    }
   ],
   "source": [
    "#11.2\n",
    "a = ['red','green','blue']; b = ['#FF0000','#008000', '#0000FF'];new_dict = {}\n",
    "new_dict = {warna: hexa_warna for warna, hexa_warna in zip(a, b)}; print(f\"Output: \\n{new_dict}\")\n"
   ]
  },
  {
   "cell_type": "code",
   "execution_count": null,
   "id": "0d67bc5b",
   "metadata": {},
   "outputs": [],
   "source": [
    "#11.3\n",
    "filename = input(\"Masukkan nama file: \")\n",
    "email_counts = {}\n",
    "\n",
    "with open(filename, 'r') as file:\n",
    "    for line in file:\n",
    "        if line.startswith('From '):\n",
    "            parts = line.split()\n",
    "            email = parts[1]\n",
    "            email_counts[email] = email_counts.get(email, 0) + 1\n",
    "\n",
    "print(email_counts)\n"
   ]
  },
  {
   "cell_type": "code",
   "execution_count": null,
   "id": "729df026",
   "metadata": {},
   "outputs": [],
   "source": [
    "#11.4\n",
    "filename = input(\"Masukkan nama file: \")\n",
    "domain_counts = {}\n",
    "\n",
    "with open(filename, 'r') as file:\n",
    "    for line in file:\n",
    "        if line.startswith('From '):\n",
    "            parts = line.split()\n",
    "            email = parts[1]\n",
    "            domain = email.split('@')[1]\n",
    "            domain_counts[domain] = domain_counts.get(domain, 0) + 1\n",
    "\n",
    "print(domain_counts)\n"
   ]
  }
 ],
 "metadata": {
  "kernelspec": {
   "display_name": "Python 3",
   "language": "python",
   "name": "python3"
  },
  "language_info": {
   "codemirror_mode": {
    "name": "ipython",
    "version": 3
   },
   "file_extension": ".py",
   "mimetype": "text/x-python",
   "name": "python",
   "nbconvert_exporter": "python",
   "pygments_lexer": "ipython3",
   "version": "3.12.5"
  }
 },
 "nbformat": 4,
 "nbformat_minor": 5
}
